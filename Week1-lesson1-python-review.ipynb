{
 "cells": [
  {
   "cell_type": "markdown",
   "id": "eca592cd-c231-4a2b-af30-50913a33be87",
   "metadata": {},
   "source": [
    "# Python Review\n",
    "\n",
    "Short review about some core concepts in python exemplified by objects in the numpy library\n",
    "\n",
    "- recall basic python vocab\n",
    "- practice markdown syntax\n",
    "\n",
    "## Libraries and packages\n",
    "\n",
    "**library:** is a collection of code that we can use to perform specific tasks in our programs. It can be a single file or multiple files. \n",
    "\n",
    "**NumPy:**\n",
    "\n",
    "- core library for numerical computing in Python\n",
    "- many of the libraries use NumPy arrays as their building blocks\n",
    "- computations on NumPy objects are optimized for speed and memory usage\n",
    "\n",
    "let's import NumPy with its **standard abbreviation** `np`:"
   ]
  },
  {
   "cell_type": "code",
   "execution_count": 2,
   "id": "bd60a56d-03e8-455a-a8c8-3c746602dd12",
   "metadata": {
    "tags": []
   },
   "outputs": [],
   "source": [
    "import numpy as np"
   ]
  },
  {
   "cell_type": "markdown",
   "id": "5980080f-4379-40ec-b8a2-4cc23dfa9163",
   "metadata": {},
   "source": [
    "## Variable\n",
    "\n",
    "**variable:** a name we assign to a particular object in Python\n",
    "\n",
    "note: esc + m changes code to markdown cell\n",
    "\n",
    "Exp:"
   ]
  },
  {
   "cell_type": "code",
   "execution_count": 3,
   "id": "875bbba4-d400-4a8e-abb7-598bee730937",
   "metadata": {},
   "outputs": [],
   "source": [
    "# Assign a small variable to a\n",
    "\n",
    "a = np.array([ [1,1,2], [3,5,8] ])"
   ]
  },
  {
   "cell_type": "markdown",
   "id": "0152efda-6dd2-4391-973f-b3d301e5e38a",
   "metadata": {},
   "source": [
    "To view a variable's valye from our jupyter notebook:"
   ]
  },
  {
   "cell_type": "code",
   "execution_count": 4,
   "id": "9e61a484-5ee8-4a09-b118-30699e93c095",
   "metadata": {
    "tags": []
   },
   "outputs": [
    {
     "data": {
      "text/plain": [
       "array([[1, 1, 2],\n",
       "       [3, 5, 8]])"
      ]
     },
     "execution_count": 4,
     "metadata": {},
     "output_type": "execute_result"
    }
   ],
   "source": [
    "a"
   ]
  },
  {
   "cell_type": "code",
   "execution_count": 5,
   "id": "7d0c6e4a-fa09-4229-8f6c-f61cf49ef897",
   "metadata": {
    "tags": []
   },
   "outputs": [
    {
     "name": "stdout",
     "output_type": "stream",
     "text": [
      "[[1 1 2]\n",
      " [3 5 8]]\n"
     ]
    }
   ],
   "source": [
    "# use `print` function to print the value\n",
    "print(a)"
   ]
  },
  {
   "cell_type": "markdown",
   "id": "fbd0cd08-b748-4d64-8695-f90b9ab423c7",
   "metadata": {},
   "source": [
    "## Convention: use `snake-case` for naming variables.\n",
    "\n",
    "this is the convention we will use in the course. Why?\n",
    "PEP 8 style guide for python code recommends snakecase.\n",
    "\n",
    "**remember that variable names should be both descriptive and concise**\n",
    "\n",
    "## Objects\n",
    "\n",
    "**object:** (informally speaking) an object is a bundle of *properties* and *actions* about something specific.\n",
    "If object is a df, then the properties are the number of rows, the names of the columns, and the date created. Actions oculd be selecting a specific row or adding a new column. \n",
    "\n",
    "A variable is the name we give a specific object, and the same object can be referenced by different variables\n",
    "\n",
    "In practice, we can often use the word variable and object interchangeably. \n",
    "\n",
    "## Types\n",
    "\n",
    "Every object in python has a **type**, the type tells us what kind of object we have. \n",
    "We can also call the type of an object, the **class** of an object. So class and object both mean what kind of object we have. "
   ]
  },
  {
   "cell_type": "code",
   "execution_count": 6,
   "id": "6ab7b331-a00d-497f-a134-69809e834aff",
   "metadata": {
    "tags": []
   },
   "outputs": [
    {
     "name": "stdout",
     "output_type": "stream",
     "text": [
      "[[1 1 2]\n",
      " [3 5 8]]\n"
     ]
    }
   ],
   "source": [
    "print(a)"
   ]
  },
  {
   "cell_type": "code",
   "execution_count": 7,
   "id": "3f8e5177-40b6-473b-8a8b-a4ae26b7aff8",
   "metadata": {
    "tags": []
   },
   "outputs": [
    {
     "data": {
      "text/plain": [
       "numpy.ndarray"
      ]
     },
     "execution_count": 7,
     "metadata": {},
     "output_type": "execute_result"
    }
   ],
   "source": [
    "# see the type/class of a variable/object by using the `type` function\n",
    "type(a)"
   ]
  },
  {
   "cell_type": "markdown",
   "id": "f2df49db-0e40-412d-9700-7a3672d99248",
   "metadata": {},
   "source": [
    "The `numpy.ndarray` is the core object/data type of the NumPy package"
   ]
  },
  {
   "cell_type": "code",
   "execution_count": 8,
   "id": "b3dc977e-e909-4a60-a8dd-e392a587c851",
   "metadata": {
    "tags": []
   },
   "outputs": [
    {
     "name": "stdout",
     "output_type": "stream",
     "text": [
      "1\n"
     ]
    },
    {
     "data": {
      "text/plain": [
       "numpy.int64"
      ]
     },
     "execution_count": 8,
     "metadata": {},
     "output_type": "execute_result"
    }
   ],
   "source": [
    "print(a[0,0])\n",
    "\n",
    "type(a[0,0])"
   ]
  },
  {
   "cell_type": "markdown",
   "id": "b871bcfa-2f33-4e71-8318-6f48c9067f55",
   "metadata": {},
   "source": [
    "`numpy.int64` is not the standard Python integer type `int`.\n",
    "\n",
    "`numpy.int64` is a special data type in NumPy telling us that 1 is an integer stored as a 64-bit number. \n",
    "\n",
    "Check-in: access the value 5 in array `a`."
   ]
  },
  {
   "cell_type": "code",
   "execution_count": 11,
   "id": "95cc7a2e-f38e-4473-b319-843a83959476",
   "metadata": {
    "tags": []
   },
   "outputs": [
    {
     "data": {
      "text/plain": [
       "5"
      ]
     },
     "execution_count": 11,
     "metadata": {},
     "output_type": "execute_result"
    }
   ],
   "source": [
    "a[1,1]"
   ]
  },
  {
   "cell_type": "markdown",
   "id": "dba57e2e-df35-4d9b-a373-218ba9667b59",
   "metadata": {},
   "source": [
    "## Functions\n",
    "\n",
    "`print` was our first example of a python **function**\n",
    "\n",
    "Functions take in a set of **arguments**, separated by commas, and use those arguments to create an **output**.\n",
    "\n",
    "In this course, we'll be using argument and parameter interchangeable, but they do have slightly different meanings. \n",
    "\n",
    "We can ask for information about what a function does by executing `?` followed by the function name"
   ]
  },
  {
   "cell_type": "code",
   "execution_count": 12,
   "id": "12c2f8fa-14b3-494f-a8bd-f0c575bdec3a",
   "metadata": {
    "tags": []
   },
   "outputs": [
    {
     "data": {
      "text/plain": [
       "\u001b[0;31mDocstring:\u001b[0m\n",
       "print(value, ..., sep=' ', end='\\n', file=sys.stdout, flush=False)\n",
       "\n",
       "Prints the values to a stream, or to sys.stdout by default.\n",
       "Optional keyword arguments:\n",
       "file:  a file-like object (stream); defaults to the current sys.stdout.\n",
       "sep:   string inserted between values, default a space.\n",
       "end:   string appended after the last value, default a newline.\n",
       "flush: whether to forcibly flush the stream.\n",
       "\u001b[0;31mType:\u001b[0m      builtin_function_or_method\n"
      ]
     },
     "metadata": {},
     "output_type": "display_data"
    }
   ],
   "source": [
    "?print"
   ]
  },
  {
   "cell_type": "markdown",
   "id": "455ba4f2-278e-4f61-9928-7730c87ca533",
   "metadata": {},
   "source": [
    "What we obtai nis called a **docstring**, a special type of comment that is used to document how a function (or a class, or module) works. \n",
    "\n",
    "Notice that there are different types of arguments inside the function's ()\n",
    "\n",
    "Roughly speaking, a function has 2 types of arguments:\n",
    "- **non-optional arguments**: arguments *you* have to specify for the function to work\n",
    "\n",
    "-**optional arguments**: arguments that are pre filled with a default value by the function, but you can override the. Optional arguments appear inside the parenthesis () in the form `optional_argument = default_value`\n",
    "\n",
    "exp:\n",
    "`end` is a parameter in `print` with default valye a new line\n",
    "we can pass the value `:-)` to this parameter so if finished the line with `:-)` "
   ]
  },
  {
   "cell_type": "code",
   "execution_count": 13,
   "id": "d1aa70bb-a7b0-4b23-8e1d-6a786756cfb2",
   "metadata": {
    "tags": []
   },
   "outputs": [
    {
     "name": "stdout",
     "output_type": "stream",
     "text": [
      "Change the end parameter:-)"
     ]
    }
   ],
   "source": [
    "print('Change the end parameter', end = ':-)')"
   ]
  },
  {
   "cell_type": "markdown",
   "id": "4444cc64-6135-475b-bda4-005651762841",
   "metadata": {},
   "source": [
    "## Attributes and methods\n",
    "\n",
    "An object in python has attributes and methods. \n",
    "\n",
    "- **attribute**: a property of the object, some piece of information about it. \n",
    "- **method**: a procedure associated with an object, so it is an action where the main ingredient is the object itself. \n",
    "\n",
    "## Check-in\n",
    "\n",
    "Make a diagram like the cat one, for a class `fish`. What are its attributes and methods? (3)\n",
    "\n",
    "Exp:\n",
    "NumPy arrays have many methods and attributes. For exp:"
   ]
  },
  {
   "cell_type": "code",
   "execution_count": 14,
   "id": "afe3313c-1f3a-441c-a974-59fd210a2032",
   "metadata": {
    "tags": []
   },
   "outputs": [
    {
     "data": {
      "text/plain": [
       "array([[1, 1, 2],\n",
       "       [3, 5, 8]])"
      ]
     },
     "execution_count": 14,
     "metadata": {},
     "output_type": "execute_result"
    }
   ],
   "source": [
    "a"
   ]
  },
  {
   "cell_type": "code",
   "execution_count": 15,
   "id": "90366764-72a7-49e0-adea-1fc3237faf3a",
   "metadata": {
    "tags": []
   },
   "outputs": [
    {
     "name": "stdout",
     "output_type": "stream",
     "text": [
      "[[1 3]\n",
      " [1 5]\n",
      " [2 8]]\n"
     ]
    }
   ],
   "source": [
    "# T is an example of an attribute, it returns the transpose of array\n",
    "print(a.T)"
   ]
  },
  {
   "cell_type": "code",
   "execution_count": 17,
   "id": "5654dbb5-baa2-48a7-ac78-f1b04a0026ed",
   "metadata": {
    "tags": []
   },
   "outputs": [
    {
     "data": {
      "text/plain": [
       "numpy.ndarray"
      ]
     },
     "execution_count": 17,
     "metadata": {},
     "output_type": "execute_result"
    }
   ],
   "source": [
    "type(a.T)"
   ]
  },
  {
   "cell_type": "code",
   "execution_count": 19,
   "id": "da638185-f84f-420e-993f-480836546edb",
   "metadata": {
    "tags": []
   },
   "outputs": [
    {
     "name": "stdout",
     "output_type": "stream",
     "text": [
      "(2, 3)\n"
     ]
    }
   ],
   "source": [
    "# shape another attribute tells us the shape of the array\n",
    "print(a.shape)"
   ]
  },
  {
   "cell_type": "code",
   "execution_count": 20,
   "id": "494d6a6a-d2bc-4179-987d-b2b21d53b8b0",
   "metadata": {
    "tags": []
   },
   "outputs": [
    {
     "name": "stdout",
     "output_type": "stream",
     "text": [
      "<class 'tuple'>\n"
     ]
    }
   ],
   "source": [
    "print(type(a.shape))"
   ]
  },
  {
   "cell_type": "code",
   "execution_count": 21,
   "id": "7e92ea70-457d-49cb-bba4-0fb95869cb5e",
   "metadata": {
    "tags": []
   },
   "outputs": [
    {
     "name": "stdout",
     "output_type": "stream",
     "text": [
      "dim: 2 | type: <class 'int'>\n"
     ]
    }
   ],
   "source": [
    "# ndim is an attribute holding the number of array dimensions\n",
    "print('dim:', a.ndim, '| type:', type(a.ndim))"
   ]
  },
  {
   "cell_type": "markdown",
   "id": "f1bb781f-3610-4b37-a18f-97fec4eb07f2",
   "metadata": {},
   "source": [
    "Attributes can have many different data types.\n",
    "\n",
    "Some examples of methods. "
   ]
  },
  {
   "cell_type": "code",
   "execution_count": 25,
   "id": "c8435fa8-7b40-411b-ba15-52c1f3728722",
   "metadata": {
    "tags": []
   },
   "outputs": [
    {
     "name": "stdout",
     "output_type": "stream",
     "text": [
      "[[1 1 2]\n",
      " [3 5 8]]\n"
     ]
    },
    {
     "data": {
      "text/plain": [
       "array([1, 1, 2])"
      ]
     },
     "execution_count": 25,
     "metadata": {},
     "output_type": "execute_result"
    }
   ],
   "source": [
    "# The min method returns the minimum value in the array along a specified axis\n",
    "print(a)\n",
    "a.min(axis=0)"
   ]
  },
  {
   "cell_type": "code",
   "execution_count": 27,
   "id": "78871f78-2d6c-471b-829e-c975c2aa978a",
   "metadata": {
    "tags": []
   },
   "outputs": [
    {
     "data": {
      "text/plain": [
       "1"
      ]
     },
     "execution_count": 27,
     "metadata": {},
     "output_type": "execute_result"
    }
   ],
   "source": [
    "# Run min method without axis- axis is optional\n",
    "a.min()"
   ]
  },
  {
   "cell_type": "markdown",
   "id": "2eaf7a2d-1a72-4d2d-aceb-97c3157d9e3f",
   "metadata": {},
   "source": [
    "Remember that methods are **functions** associated with an object. We can confirm this!"
   ]
  },
  {
   "cell_type": "code",
   "execution_count": 28,
   "id": "007182a8-f44f-4f1b-bdde-0c94d01ac38b",
   "metadata": {
    "tags": []
   },
   "outputs": [
    {
     "data": {
      "text/plain": [
       "[[1, 1, 2], [3, 5, 8]]"
      ]
     },
     "execution_count": 28,
     "metadata": {},
     "output_type": "execute_result"
    }
   ],
   "source": [
    "# method tolist() transforms array into a list\n",
    "a.tolist()"
   ]
  },
  {
   "cell_type": "code",
   "execution_count": 30,
   "id": "5f1a52c3-df08-4e42-b5cd-59095337979c",
   "metadata": {
    "tags": []
   },
   "outputs": [
    {
     "data": {
      "text/plain": [
       "builtin_function_or_method"
      ]
     },
     "execution_count": 30,
     "metadata": {},
     "output_type": "execute_result"
    }
   ],
   "source": [
    "type(a.tolist)"
   ]
  },
  {
   "cell_type": "markdown",
   "id": "c584c232-94a4-44a6-b0ca-66f067ed6a33",
   "metadata": {},
   "source": [
    "Exercise\n",
    "\n",
    "1. Read the `print` function help. What is the type of argument `sep`? Is this a default or non-default? Why?"
   ]
  },
  {
   "cell_type": "code",
   "execution_count": 32,
   "id": "0b42c49d-5edf-4f2f-9611-7a025fb73585",
   "metadata": {
    "tags": []
   },
   "outputs": [
    {
     "name": "stdout",
     "output_type": "stream",
     "text": [
      "Help on built-in function print in module builtins:\n",
      "\n",
      "print(...)\n",
      "    print(value, ..., sep=' ', end='\\n', file=sys.stdout, flush=False)\n",
      "    \n",
      "    Prints the values to a stream, or to sys.stdout by default.\n",
      "    Optional keyword arguments:\n",
      "    file:  a file-like object (stream); defaults to the current sys.stdout.\n",
      "    sep:   string inserted between values, default a space.\n",
      "    end:   string appended after the last value, default a newline.\n",
      "    flush: whether to forcibly flush the stream.\n",
      "\n"
     ]
    }
   ],
   "source": [
    "help(print)"
   ]
  },
  {
   "cell_type": "markdown",
   "id": "2c518d31-0c9a-498f-aeed-0c07ec7c222e",
   "metadata": {},
   "source": [
    "2. Create two new variables, one with the integer value 277 and the other with the string 99.\n",
    "3. Use your variables to print 77%99%77 by changing the valye of one of the default argumentsin print. "
   ]
  },
  {
   "cell_type": "code",
   "execution_count": 35,
   "id": "712f7da3-457f-48e2-9081-1d1237f10e53",
   "metadata": {
    "tags": []
   },
   "outputs": [],
   "source": [
    "num = 77\n",
    "string = '999'"
   ]
  },
  {
   "cell_type": "code",
   "execution_count": 37,
   "id": "1d7bffcb-dc94-4bc6-882b-0f4367846858",
   "metadata": {
    "tags": []
   },
   "outputs": [
    {
     "name": "stdout",
     "output_type": "stream",
     "text": [
      "77%999%77\n"
     ]
    }
   ],
   "source": [
    "print(num, string, num, sep= '%')"
   ]
  },
  {
   "cell_type": "code",
   "execution_count": null,
   "id": "dff27b89-07bc-49a4-90e6-27c825f586b8",
   "metadata": {},
   "outputs": [],
   "source": []
  }
 ],
 "metadata": {
  "kernelspec": {
   "display_name": "Anaconda 3 (Base)",
   "language": "python",
   "name": "base"
  },
  "language_info": {
   "codemirror_mode": {
    "name": "ipython",
    "version": 3
   },
   "file_extension": ".py",
   "mimetype": "text/x-python",
   "name": "python",
   "nbconvert_exporter": "python",
   "pygments_lexer": "ipython3",
   "version": "3.9.13"
  }
 },
 "nbformat": 4,
 "nbformat_minor": 5
}
