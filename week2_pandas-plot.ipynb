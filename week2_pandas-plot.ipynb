{
 "cells": [
  {
   "cell_type": "markdown",
   "id": "971cc8b4-f692-4dab-81ba-97030e044890",
   "metadata": {},
   "source": [
    "https://meds-eds-220.github.io/MEDS-eds-220-course/week-by-week/week-by-week.html\n",
    "\n"
   ]
  }
 ],
 "metadata": {
  "kernelspec": {
   "display_name": "Anaconda 3 (Base)",
   "language": "python",
   "name": "base"
  },
  "language_info": {
   "codemirror_mode": {
    "name": "ipython",
    "version": 3
   },
   "file_extension": ".py",
   "mimetype": "text/x-python",
   "name": "python",
   "nbconvert_exporter": "python",
   "pygments_lexer": "ipython3",
   "version": "3.9.13"
  }
 },
 "nbformat": 4,
 "nbformat_minor": 5
}
